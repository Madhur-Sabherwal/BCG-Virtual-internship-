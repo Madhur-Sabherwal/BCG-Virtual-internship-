{
 "cells": [
  {
   "cell_type": "code",
   "execution_count": 1,
   "metadata": {},
   "outputs": [],
   "source": [
    "import datetime\n",
    "import matplotlib.pyplot as plt\n",
    "import numpy as np\n",
    "import os\n",
    "import pandas as pd\n",
    "import pickle\n",
    "import seaborn as sns"
   ]
  },
  {
   "cell_type": "code",
   "execution_count": 2,
   "metadata": {},
   "outputs": [],
   "source": [
    "# Show plots in jupyter notebook\n",
    "%matplotlib inline"
   ]
  },
  {
   "cell_type": "code",
   "execution_count": 3,
   "metadata": {},
   "outputs": [],
   "source": [
    "# Set plot style\n",
    "sns.set(color_codes=True)"
   ]
  },
  {
   "cell_type": "code",
   "execution_count": 4,
   "metadata": {},
   "outputs": [],
   "source": [
    "# Set maximum number of columns to be displayed\n",
    "pd.set_option('display.max_columns', 100)"
   ]
  },
  {
   "cell_type": "code",
   "execution_count": 7,
   "metadata": {},
   "outputs": [],
   "source": [
    "# Read in dataset\n",
    "ml_case_training_data = 'ml_case_training_data.csv'\n",
    "ml_case_training_hist_data = 'ml_case_training_hist_data.csv'\n",
    "ml_case_training_output = 'ml_case_training_output.csv'\n",
    "\n",
    "# list of dates\n",
    "dt_lst = ['date_activ','date_end','date_first_activ','date_modif_prod','date_renewal']\n",
    "\n",
    "# data importing          \n",
    "main = pd.read_csv(ml_case_training_data, parse_dates=dt_lst)#, index_col= 'date_activ')\n",
    "hist = pd.read_csv(ml_case_training_hist_data, parse_dates=['price_date']) # Yearly history of consumption per user\n",
    "output = pd.read_csv(ml_case_training_output)\n",
    "pd.set_option('display.max_columns',None)"
   ]
  },
  {
   "cell_type": "code",
   "execution_count": null,
   "metadata": {},
   "outputs": [],
   "source": []
  }
 ],
 "metadata": {
  "kernelspec": {
   "display_name": "Python 3",
   "language": "python",
   "name": "python3"
  },
  "language_info": {
   "codemirror_mode": {
    "name": "ipython",
    "version": 3
   },
   "file_extension": ".py",
   "mimetype": "text/x-python",
   "name": "python",
   "nbconvert_exporter": "python",
   "pygments_lexer": "ipython3",
   "version": "3.7.3"
  }
 },
 "nbformat": 4,
 "nbformat_minor": 2
}
